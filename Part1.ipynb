{
 "cells": [
  {
   "cell_type": "markdown",
   "id": "aebdb8d7-7698-4716-968d-c0f6955adfdd",
   "metadata": {},
   "source": [
    "# Problem Introduction\n",
    "\n",
    "# What is the Problem\n",
    "The problem  is to develop a predictive model that can help determine the likelihood of task completion among system administrators. By accurately predicting when tasks are completed and, more importantly, when they are likely not to be completed, the HR department can make informed decisions to optimize resource allocation, improve team assignments, and ensure tasks are executed more efficiently."
   ]
  },
  {
   "cell_type": "markdown",
   "id": "860c1d68-c0c0-4dfd-b508-13ce2ac069b7",
   "metadata": {},
   "source": [
    "# Why is it important\n",
    "Predicting task completion is crucial for improving organizational productivity and resource management. Knowing in advance which tasks are likely to be completed and which are at risk of non-completion helps HR and management:\n",
    "\n",
    "Identify bottlenecks in workflow.\n",
    "Optimize workforce allocation and team structures.\n",
    "Minimize wasted resources and increase productivity.\n",
    "Improve employee satisfaction by aligning workload with individual or team capabilities.\n",
    "Provide better performance management and training support based on predictive insights."
   ]
  },
  {
   "cell_type": "markdown",
   "id": "5b3f5cc1-9f20-4fba-80c1-502dc1f9b649",
   "metadata": {},
   "source": [
    "# Who are the Key Stakeholders?\n",
    "- HR Department: The primary beneficiary, as they will use the insights to optimize team assignments, manage workloads, and address issues affecting task completion.\n",
    "- System Administrators: Their work patterns and outcomes are being analyzed, so they are directly impacted by the recommendations for improving task efficiency and resource allocation.\n",
    "- Team Managers/Supervisors: They need insights to better manage their teams, redistribute tasks, and identify areas where employees may need additional support or training.\n",
    "- Senior Leadership: They are invested in overall organizational productivity and efficiency, and any initiative that improves resource allocation can have a positive impact on the bottom line.\n",
    "- Data Scientists/Analysts: Responsible for creating, evaluating, and maintaining the predictive model to ensure it provides actionable insights and continues to perform well over time."
   ]
  },
  {
   "cell_type": "code",
   "execution_count": 1,
   "id": "36b12a8a-f783-4c14-830c-fd3f8503a192",
   "metadata": {},
   "outputs": [],
   "source": [
    "#importing the required libraries\n",
    "import pandas as pd\n",
    "from sklearn.model_selection import train_test_split\n",
    "from sklearn.svm import SVC\n",
    "from sklearn.linear_model import LogisticRegression\n",
    "from sklearn.metrics import accuracy_score, confusion_matrix, precision_recall_fscore_support\n",
    "import numpy as np"
   ]
  },
  {
   "cell_type": "code",
   "execution_count": 3,
   "id": "e0d548da-ebeb-4e47-8a96-a83a35537aa6",
   "metadata": {},
   "outputs": [],
   "source": [
    "path = \"C:\\\\Users\\\\Gahan\\\\Downloads\\\\SystemAdministrators.csv\""
   ]
  },
  {
   "cell_type": "markdown",
   "id": "19eb290d-3113-49a2-8c5b-81e0aee0a10e",
   "metadata": {},
   "source": [
    "# Data Collection\n",
    "we are loading the data and then displaying it."
   ]
  },
  {
   "cell_type": "code",
   "execution_count": 4,
   "id": "0957f00a-bd99-406e-a2ac-071f10100892",
   "metadata": {},
   "outputs": [],
   "source": [
    "#loading data\n",
    "df = pd.read_csv(path)"
   ]
  },
  {
   "cell_type": "code",
   "execution_count": 5,
   "id": "2ee2a0ce-1713-4263-b4f1-8e871cc0c8ed",
   "metadata": {},
   "outputs": [
    {
     "data": {
      "text/html": [
       "<div>\n",
       "<style scoped>\n",
       "    .dataframe tbody tr th:only-of-type {\n",
       "        vertical-align: middle;\n",
       "    }\n",
       "\n",
       "    .dataframe tbody tr th {\n",
       "        vertical-align: top;\n",
       "    }\n",
       "\n",
       "    .dataframe thead th {\n",
       "        text-align: right;\n",
       "    }\n",
       "</style>\n",
       "<table border=\"1\" class=\"dataframe\">\n",
       "  <thead>\n",
       "    <tr style=\"text-align: right;\">\n",
       "      <th></th>\n",
       "      <th>task_completed</th>\n",
       "      <th>employee_experience</th>\n",
       "      <th>training_level4</th>\n",
       "      <th>training_level6</th>\n",
       "      <th>training_level8</th>\n",
       "    </tr>\n",
       "  </thead>\n",
       "  <tbody>\n",
       "    <tr>\n",
       "      <th>0</th>\n",
       "      <td>1</td>\n",
       "      <td>10.9</td>\n",
       "      <td>1</td>\n",
       "      <td>0</td>\n",
       "      <td>0</td>\n",
       "    </tr>\n",
       "    <tr>\n",
       "      <th>1</th>\n",
       "      <td>1</td>\n",
       "      <td>9.9</td>\n",
       "      <td>1</td>\n",
       "      <td>0</td>\n",
       "      <td>0</td>\n",
       "    </tr>\n",
       "    <tr>\n",
       "      <th>2</th>\n",
       "      <td>1</td>\n",
       "      <td>10.4</td>\n",
       "      <td>0</td>\n",
       "      <td>1</td>\n",
       "      <td>0</td>\n",
       "    </tr>\n",
       "    <tr>\n",
       "      <th>3</th>\n",
       "      <td>1</td>\n",
       "      <td>13.7</td>\n",
       "      <td>0</td>\n",
       "      <td>1</td>\n",
       "      <td>0</td>\n",
       "    </tr>\n",
       "    <tr>\n",
       "      <th>4</th>\n",
       "      <td>1</td>\n",
       "      <td>9.4</td>\n",
       "      <td>0</td>\n",
       "      <td>0</td>\n",
       "      <td>1</td>\n",
       "    </tr>\n",
       "  </tbody>\n",
       "</table>\n",
       "</div>"
      ],
      "text/plain": [
       "   task_completed  employee_experience  training_level4  training_level6  \\\n",
       "0               1                 10.9                1                0   \n",
       "1               1                  9.9                1                0   \n",
       "2               1                 10.4                0                1   \n",
       "3               1                 13.7                0                1   \n",
       "4               1                  9.4                0                0   \n",
       "\n",
       "   training_level8  \n",
       "0                0  \n",
       "1                0  \n",
       "2                0  \n",
       "3                0  \n",
       "4                1  "
      ]
     },
     "execution_count": 5,
     "metadata": {},
     "output_type": "execute_result"
    }
   ],
   "source": [
    "df.head(5)"
   ]
  },
  {
   "cell_type": "markdown",
   "id": "0a02fe83-e12e-4df4-beaa-d4c5341978c2",
   "metadata": {},
   "source": [
    "# Data Exploration and Understanding\n",
    "we are displaying the statistical summary of the data."
   ]
  },
  {
   "cell_type": "code",
   "execution_count": 6,
   "id": "78dfb382-4976-494c-9ea2-27379d025397",
   "metadata": {},
   "outputs": [
    {
     "name": "stdout",
     "output_type": "stream",
     "text": [
      "<class 'pandas.core.frame.DataFrame'>\n",
      "RangeIndex: 75 entries, 0 to 74\n",
      "Data columns (total 5 columns):\n",
      " #   Column               Non-Null Count  Dtype  \n",
      "---  ------               --------------  -----  \n",
      " 0   task_completed       75 non-null     int64  \n",
      " 1   employee_experience  75 non-null     float64\n",
      " 2   training_level4      75 non-null     int64  \n",
      " 3   training_level6      75 non-null     int64  \n",
      " 4   training_level8      75 non-null     int64  \n",
      "dtypes: float64(1), int64(4)\n",
      "memory usage: 3.1 KB\n"
     ]
    }
   ],
   "source": [
    "df.info()"
   ]
  },
  {
   "cell_type": "code",
   "execution_count": 7,
   "id": "fbeaabd7-8d7d-4846-932f-517d1cdfe0f5",
   "metadata": {},
   "outputs": [
    {
     "data": {
      "text/html": [
       "<div>\n",
       "<style scoped>\n",
       "    .dataframe tbody tr th:only-of-type {\n",
       "        vertical-align: middle;\n",
       "    }\n",
       "\n",
       "    .dataframe tbody tr th {\n",
       "        vertical-align: top;\n",
       "    }\n",
       "\n",
       "    .dataframe thead th {\n",
       "        text-align: right;\n",
       "    }\n",
       "</style>\n",
       "<table border=\"1\" class=\"dataframe\">\n",
       "  <thead>\n",
       "    <tr style=\"text-align: right;\">\n",
       "      <th></th>\n",
       "      <th>task_completed</th>\n",
       "      <th>employee_experience</th>\n",
       "      <th>training_level4</th>\n",
       "      <th>training_level6</th>\n",
       "      <th>training_level8</th>\n",
       "    </tr>\n",
       "  </thead>\n",
       "  <tbody>\n",
       "    <tr>\n",
       "      <th>count</th>\n",
       "      <td>75.000000</td>\n",
       "      <td>75.000000</td>\n",
       "      <td>75.000000</td>\n",
       "      <td>75.000000</td>\n",
       "      <td>75.000000</td>\n",
       "    </tr>\n",
       "    <tr>\n",
       "      <th>mean</th>\n",
       "      <td>0.200000</td>\n",
       "      <td>6.800000</td>\n",
       "      <td>0.760000</td>\n",
       "      <td>0.173333</td>\n",
       "      <td>0.066667</td>\n",
       "    </tr>\n",
       "    <tr>\n",
       "      <th>std</th>\n",
       "      <td>0.402694</td>\n",
       "      <td>2.273645</td>\n",
       "      <td>0.429959</td>\n",
       "      <td>0.381084</td>\n",
       "      <td>0.251124</td>\n",
       "    </tr>\n",
       "    <tr>\n",
       "      <th>min</th>\n",
       "      <td>0.000000</td>\n",
       "      <td>2.700000</td>\n",
       "      <td>0.000000</td>\n",
       "      <td>0.000000</td>\n",
       "      <td>0.000000</td>\n",
       "    </tr>\n",
       "    <tr>\n",
       "      <th>25%</th>\n",
       "      <td>0.000000</td>\n",
       "      <td>5.200000</td>\n",
       "      <td>1.000000</td>\n",
       "      <td>0.000000</td>\n",
       "      <td>0.000000</td>\n",
       "    </tr>\n",
       "    <tr>\n",
       "      <th>50%</th>\n",
       "      <td>0.000000</td>\n",
       "      <td>6.300000</td>\n",
       "      <td>1.000000</td>\n",
       "      <td>0.000000</td>\n",
       "      <td>0.000000</td>\n",
       "    </tr>\n",
       "    <tr>\n",
       "      <th>75%</th>\n",
       "      <td>0.000000</td>\n",
       "      <td>7.850000</td>\n",
       "      <td>1.000000</td>\n",
       "      <td>0.000000</td>\n",
       "      <td>0.000000</td>\n",
       "    </tr>\n",
       "    <tr>\n",
       "      <th>max</th>\n",
       "      <td>1.000000</td>\n",
       "      <td>13.700000</td>\n",
       "      <td>1.000000</td>\n",
       "      <td>1.000000</td>\n",
       "      <td>1.000000</td>\n",
       "    </tr>\n",
       "  </tbody>\n",
       "</table>\n",
       "</div>"
      ],
      "text/plain": [
       "       task_completed  employee_experience  training_level4  training_level6  \\\n",
       "count       75.000000            75.000000        75.000000        75.000000   \n",
       "mean         0.200000             6.800000         0.760000         0.173333   \n",
       "std          0.402694             2.273645         0.429959         0.381084   \n",
       "min          0.000000             2.700000         0.000000         0.000000   \n",
       "25%          0.000000             5.200000         1.000000         0.000000   \n",
       "50%          0.000000             6.300000         1.000000         0.000000   \n",
       "75%          0.000000             7.850000         1.000000         0.000000   \n",
       "max          1.000000            13.700000         1.000000         1.000000   \n",
       "\n",
       "       training_level8  \n",
       "count        75.000000  \n",
       "mean          0.066667  \n",
       "std           0.251124  \n",
       "min           0.000000  \n",
       "25%           0.000000  \n",
       "50%           0.000000  \n",
       "75%           0.000000  \n",
       "max           1.000000  "
      ]
     },
     "execution_count": 7,
     "metadata": {},
     "output_type": "execute_result"
    }
   ],
   "source": [
    "df.describe()"
   ]
  },
  {
   "cell_type": "markdown",
   "id": "ddc86e3c-0199-4b3d-903b-30f27a2ecd60",
   "metadata": {},
   "source": [
    "# Data Cleaning or Preprocessing\n",
    "This is not required since the data is already preprocessed data.\n",
    "\n",
    "# Feature Selection\n",
    "since it is a small dataset with less features, we don't need to perform this step."
   ]
  },
  {
   "cell_type": "code",
   "execution_count": 9,
   "id": "c90f64a7-f6ea-466e-96cf-6a766f52908e",
   "metadata": {},
   "outputs": [
    {
     "data": {
      "text/plain": [
       "task_completed         0\n",
       "employee_experience    0\n",
       "training_level4        0\n",
       "training_level6        0\n",
       "training_level8        0\n",
       "dtype: int64"
      ]
     },
     "execution_count": 9,
     "metadata": {},
     "output_type": "execute_result"
    }
   ],
   "source": [
    "# checking for missed or null values\n",
    "df.isnull().sum()"
   ]
  },
  {
   "cell_type": "markdown",
   "id": "4d2ff1a9-72d9-44d0-b8ef-156fe35061f0",
   "metadata": {},
   "source": [
    "# Modelling\n",
    "# Data splitting\n",
    "Here we are performing the train test split and also dividing the target variable from the dataset in order to train the model."
   ]
  },
  {
   "cell_type": "code",
   "execution_count": 10,
   "id": "2deb00ac-5f31-46e2-9ec0-a6d3f7566797",
   "metadata": {},
   "outputs": [],
   "source": [
    "X = df.drop('task_completed', axis=1)\n",
    "y = df['task_completed']\n"
   ]
  },
  {
   "cell_type": "code",
   "execution_count": 11,
   "id": "16f9139a-88dc-4a55-8f6a-744ec6307a79",
   "metadata": {},
   "outputs": [
    {
     "data": {
      "text/html": [
       "<div>\n",
       "<style scoped>\n",
       "    .dataframe tbody tr th:only-of-type {\n",
       "        vertical-align: middle;\n",
       "    }\n",
       "\n",
       "    .dataframe tbody tr th {\n",
       "        vertical-align: top;\n",
       "    }\n",
       "\n",
       "    .dataframe thead th {\n",
       "        text-align: right;\n",
       "    }\n",
       "</style>\n",
       "<table border=\"1\" class=\"dataframe\">\n",
       "  <thead>\n",
       "    <tr style=\"text-align: right;\">\n",
       "      <th></th>\n",
       "      <th>employee_experience</th>\n",
       "      <th>training_level4</th>\n",
       "      <th>training_level6</th>\n",
       "      <th>training_level8</th>\n",
       "    </tr>\n",
       "  </thead>\n",
       "  <tbody>\n",
       "    <tr>\n",
       "      <th>0</th>\n",
       "      <td>10.9</td>\n",
       "      <td>1</td>\n",
       "      <td>0</td>\n",
       "      <td>0</td>\n",
       "    </tr>\n",
       "    <tr>\n",
       "      <th>1</th>\n",
       "      <td>9.9</td>\n",
       "      <td>1</td>\n",
       "      <td>0</td>\n",
       "      <td>0</td>\n",
       "    </tr>\n",
       "    <tr>\n",
       "      <th>2</th>\n",
       "      <td>10.4</td>\n",
       "      <td>0</td>\n",
       "      <td>1</td>\n",
       "      <td>0</td>\n",
       "    </tr>\n",
       "    <tr>\n",
       "      <th>3</th>\n",
       "      <td>13.7</td>\n",
       "      <td>0</td>\n",
       "      <td>1</td>\n",
       "      <td>0</td>\n",
       "    </tr>\n",
       "    <tr>\n",
       "      <th>4</th>\n",
       "      <td>9.4</td>\n",
       "      <td>0</td>\n",
       "      <td>0</td>\n",
       "      <td>1</td>\n",
       "    </tr>\n",
       "  </tbody>\n",
       "</table>\n",
       "</div>"
      ],
      "text/plain": [
       "   employee_experience  training_level4  training_level6  training_level8\n",
       "0                 10.9                1                0                0\n",
       "1                  9.9                1                0                0\n",
       "2                 10.4                0                1                0\n",
       "3                 13.7                0                1                0\n",
       "4                  9.4                0                0                1"
      ]
     },
     "execution_count": 11,
     "metadata": {},
     "output_type": "execute_result"
    }
   ],
   "source": [
    "X.head(5)"
   ]
  },
  {
   "cell_type": "code",
   "execution_count": 12,
   "id": "1ed948e9-ce19-4f80-a121-bb660c382270",
   "metadata": {},
   "outputs": [
    {
     "data": {
      "text/plain": [
       "0    1\n",
       "1    1\n",
       "2    1\n",
       "3    1\n",
       "4    1\n",
       "Name: task_completed, dtype: int64"
      ]
     },
     "execution_count": 12,
     "metadata": {},
     "output_type": "execute_result"
    }
   ],
   "source": [
    "y.head(5)"
   ]
  },
  {
   "cell_type": "markdown",
   "id": "34da1ce4-12f7-4481-b57b-8f57f03e96bf",
   "metadata": {},
   "source": [
    "Here we are splitting the dataset into train and test. 80 percent of the data is given for training while 20 percent of the data is used for testing."
   ]
  },
  {
   "cell_type": "code",
   "execution_count": 13,
   "id": "723e6d93-1544-4b40-8f84-44c0a8a5343e",
   "metadata": {},
   "outputs": [],
   "source": [
    "X_train, X_test, y_train, y_test = train_test_split(X, y, test_size=0.2, random_state=42)"
   ]
  },
  {
   "cell_type": "markdown",
   "id": "ea6a8c34-3eca-486a-b26a-da67ed664888",
   "metadata": {},
   "source": [
    "# Classification Modelling\n",
    "here we are training two different classification models and checking the performance measures and then declaring the winning model based on threshold."
   ]
  },
  {
   "cell_type": "markdown",
   "id": "14482eeb-b259-4362-aa6c-734b3cfce687",
   "metadata": {},
   "source": [
    "# SVM Model"
   ]
  },
  {
   "cell_type": "markdown",
   "id": "911de52f-8eed-407c-bfa5-cb6e35b0931e",
   "metadata": {},
   "source": [
    "here we are looping c value for various 10 powers"
   ]
  },
  {
   "cell_type": "code",
   "execution_count": 14,
   "id": "62c0530a-005e-4a03-8385-b74e28094632",
   "metadata": {},
   "outputs": [],
   "source": [
    "C_values = [10**i for i in range(-4, 5)]"
   ]
  },
  {
   "cell_type": "markdown",
   "id": "997f7621-aa86-43f5-99ea-35e6747c5d2b",
   "metadata": {},
   "source": [
    "training the svm model with each c value and finding the best c value "
   ]
  },
  {
   "cell_type": "code",
   "execution_count": 20,
   "id": "027c7ada-f8e1-4416-a1f8-95fc063f34df",
   "metadata": {},
   "outputs": [
    {
     "name": "stdout",
     "output_type": "stream",
     "text": [
      "best C value for svm is :  1\n"
     ]
    }
   ],
   "source": [
    "# Training and evaluating SVM models for each C value\n",
    "best_C = None\n",
    "best_accuracy = 0\n",
    "svm_results = []\n",
    "\n",
    "for C in C_values:\n",
    "    model = SVC(C=C, kernel='linear', probability=True, random_state=42)\n",
    "    model.fit(X_train, y_train)\n",
    "    y_pred = model.predict(X_test)\n",
    "    accuracy = accuracy_score(y_test, y_pred)\n",
    "    svm_results.append((C, accuracy))\n",
    "    if accuracy > best_accuracy:\n",
    "        best_accuracy = accuracy\n",
    "        best_C = C\n",
    "print(\"best C value for svm is : \", best_C)"
   ]
  },
  {
   "cell_type": "code",
   "execution_count": 19,
   "id": "e2b0e9ac-5202-48c8-82a7-ac8b6f93ceb2",
   "metadata": {},
   "outputs": [],
   "source": [
    "# Training the final SVM model using the best C value\n",
    "final_svm_model = SVC(C=best_C, kernel='linear', probability=True, random_state=42)\n",
    "final_svm_model.fit(X_train, y_train)\n",
    "y_proba = final_svm_model.predict_proba(X_test)[:, 1]"
   ]
  },
  {
   "cell_type": "markdown",
   "id": "f763457e-105c-48fa-a529-0c2e6735085d",
   "metadata": {},
   "source": [
    "creating the performance measure table over a range of possible threshold values."
   ]
  },
  {
   "cell_type": "code",
   "execution_count": 21,
   "id": "70736250-8a13-49ff-9137-f8b18f05cdef",
   "metadata": {},
   "outputs": [],
   "source": [
    "# Defining the thresholds and evaluating the SVM model performance\n",
    "thresholds = np.arange(0.0, 1.1, 0.1)\n",
    "performance_measures = []\n",
    "\n",
    "for threshold in thresholds:\n",
    "    y_pred_threshold = (y_proba >= threshold).astype(int)\n",
    "    tn, fp, fn, tp = confusion_matrix(y_test, y_pred_threshold).ravel()\n",
    "    precision, recall, f1, _ = precision_recall_fscore_support(y_test, y_pred_threshold, average='binary', zero_division=0)\n",
    "    accuracy = accuracy_score(y_test, y_pred_threshold)\n",
    "    performance_measures.append((threshold, tn, tp, fn, fp, precision, recall, f1, accuracy))\n",
    "\n",
    "performance_df = pd.DataFrame(performance_measures, columns=['Threshold', 'TN', 'TP', 'FN', 'FP', 'Precision', 'Recall', 'F1', 'Accuracy'])\n"
   ]
  },
  {
   "cell_type": "code",
   "execution_count": 24,
   "id": "eaa9119b-8f07-41e2-85b6-b60c413e56a4",
   "metadata": {},
   "outputs": [
    {
     "name": "stdout",
     "output_type": "stream",
     "text": [
      "Performance Measure Table for svm model is :\n",
      "      Threshold  TN  TP  FN  FP  Precision  Recall        F1  Accuracy\n",
      "0         0.0   0   5   0  10   0.333333     1.0  0.500000  0.333333\n",
      "1         0.1   7   5   0   3   0.625000     1.0  0.769231  0.800000\n",
      "2         0.2   9   5   0   1   0.833333     1.0  0.909091  0.933333\n",
      "3         0.3  10   4   1   0   1.000000     0.8  0.888889  0.933333\n",
      "4         0.4  10   3   2   0   1.000000     0.6  0.750000  0.866667\n",
      "5         0.5  10   3   2   0   1.000000     0.6  0.750000  0.866667\n",
      "6         0.6  10   2   3   0   1.000000     0.4  0.571429  0.800000\n",
      "7         0.7  10   0   5   0   0.000000     0.0  0.000000  0.666667\n",
      "8         0.8  10   0   5   0   0.000000     0.0  0.000000  0.666667\n",
      "9         0.9  10   0   5   0   0.000000     0.0  0.000000  0.666667\n",
      "10        1.0  10   0   5   0   0.000000     0.0  0.000000  0.666667\n"
     ]
    }
   ],
   "source": [
    "print(\"Performance Measure Table for svm model is :\\n \", performance_df)"
   ]
  },
  {
   "cell_type": "markdown",
   "id": "5ad8172b-9590-4529-99fc-99df73f7a28b",
   "metadata": {},
   "source": [
    "# Logistic Model\n",
    "Training a logistic model."
   ]
  },
  {
   "cell_type": "code",
   "execution_count": 25,
   "id": "c7d6e1e5-809a-4686-8603-b131c1f1100a",
   "metadata": {},
   "outputs": [],
   "source": [
    "# Training a Logistic Regression model\n",
    "logistic_model = LogisticRegression(random_state=42)\n",
    "logistic_model.fit(X_train, y_train)\n",
    "y_proba_logistic = logistic_model.predict_proba(X_test)[:, 1]"
   ]
  },
  {
   "cell_type": "markdown",
   "id": "aa23e3fa-cc48-413f-ab56-e2dce8e9d962",
   "metadata": {},
   "source": [
    "creating the performance measure table over a range of possible threshold values."
   ]
  },
  {
   "cell_type": "code",
   "execution_count": 26,
   "id": "cdccf6fa-bbb5-417d-b88c-579519589989",
   "metadata": {},
   "outputs": [],
   "source": [
    "# Evaluating the Logistic Regression model performance over thresholds\n",
    "logistic_performance_measures = []\n",
    "\n",
    "for threshold in thresholds:\n",
    "    y_pred_threshold_logistic = (y_proba_logistic >= threshold).astype(int)\n",
    "    tn, fp, fn, tp = confusion_matrix(y_test, y_pred_threshold_logistic).ravel()\n",
    "    precision, recall, f1, _ = precision_recall_fscore_support(y_test, y_pred_threshold_logistic, average='binary', zero_division=0)\n",
    "    accuracy = accuracy_score(y_test, y_pred_threshold_logistic)\n",
    "    logistic_performance_measures.append((threshold, tn, tp, fn, fp, precision, recall, f1, accuracy))\n",
    "\n",
    "logistic_performance_df = pd.DataFrame(logistic_performance_measures, columns=['Threshold', 'TN', 'TP', 'FN', 'FP', 'Precision', 'Recall', 'F1', 'Accuracy'])"
   ]
  },
  {
   "cell_type": "code",
   "execution_count": 28,
   "id": "779f62fe-d7d5-43ab-b831-c76fb96139b8",
   "metadata": {},
   "outputs": [
    {
     "name": "stdout",
     "output_type": "stream",
     "text": [
      "Best C for SVM: 1\n",
      "\n",
      "SVM Performance Table:\n",
      "     Threshold  TN  TP  FN  FP  Precision  Recall        F1  Accuracy\n",
      "0         0.0   0   5   0  10   0.333333     1.0  0.500000  0.333333\n",
      "1         0.1   7   5   0   3   0.625000     1.0  0.769231  0.800000\n",
      "2         0.2   9   5   0   1   0.833333     1.0  0.909091  0.933333\n",
      "3         0.3  10   4   1   0   1.000000     0.8  0.888889  0.933333\n",
      "4         0.4  10   3   2   0   1.000000     0.6  0.750000  0.866667\n",
      "5         0.5  10   3   2   0   1.000000     0.6  0.750000  0.866667\n",
      "6         0.6  10   2   3   0   1.000000     0.4  0.571429  0.800000\n",
      "7         0.7  10   0   5   0   0.000000     0.0  0.000000  0.666667\n",
      "8         0.8  10   0   5   0   0.000000     0.0  0.000000  0.666667\n",
      "9         0.9  10   0   5   0   0.000000     0.0  0.000000  0.666667\n",
      "10        1.0  10   0   5   0   0.000000     0.0  0.000000  0.666667\n",
      "\n",
      "Logistic Regression Performance Table:\n",
      "     Threshold  TN  TP  FN  FP  Precision  Recall        F1  Accuracy\n",
      "0         0.0   0   5   0  10   0.333333     1.0  0.500000  0.333333\n",
      "1         0.1   8   5   0   2   0.714286     1.0  0.833333  0.866667\n",
      "2         0.2   9   5   0   1   0.833333     1.0  0.909091  0.933333\n",
      "3         0.3  10   5   0   0   1.000000     1.0  1.000000  1.000000\n",
      "4         0.4  10   4   1   0   1.000000     0.8  0.888889  0.933333\n",
      "5         0.5  10   3   2   0   1.000000     0.6  0.750000  0.866667\n",
      "6         0.6  10   3   2   0   1.000000     0.6  0.750000  0.866667\n",
      "7         0.7  10   3   2   0   1.000000     0.6  0.750000  0.866667\n",
      "8         0.8  10   2   3   0   1.000000     0.4  0.571429  0.800000\n",
      "9         0.9  10   0   5   0   0.000000     0.0  0.000000  0.666667\n",
      "10        1.0  10   0   5   0   0.000000     0.0  0.000000  0.666667\n"
     ]
    }
   ],
   "source": [
    "#Printing the results\n",
    "# Print results\n",
    "print(\"Best C for SVM:\", best_C)\n",
    "print(\"\\nSVM Performance Table:\\n\", performance_df)\n",
    "print(\"\\nLogistic Regression Performance Table:\\n\", logistic_performance_df)"
   ]
  },
  {
   "cell_type": "markdown",
   "id": "fabed0b6-14f9-405d-b744-9e4919ea2874",
   "metadata": {},
   "source": [
    "# Picking a winning Model\n",
    "At Threshold 0.3, Logistic Regression performs perfectly with Precision = 1.0, Recall = 1.0, F1 = 1.0, Accuracy = 1.0, while the SVM's recall drops to 0.8.\n",
    "\n",
    "Therefore, based on above results, Logistic Regression is the better choice since it consistently achieves high performance metrics at lower thresholds and demonstrates perfect performance at a threshold of 0.3."
   ]
  },
  {
   "cell_type": "markdown",
   "id": "d3a6b2a5-4535-421c-bdd2-cd889fa64aa1",
   "metadata": {},
   "source": [
    "# Evaluation at a Low Probability Threshold \n",
    "I am picking up a lower threshold of 0.3.\n",
    "\n",
    "# How many False Positives? \n",
    "0 false positives. \n",
    "   \n",
    "# What do these numbers represent?  \n",
    "It implies that there are no instances where the model incorrectly predicted a positive outcome. This minimizes unnecessary actions, reducing wasted resources and operational costs.\n",
    "\n",
    "# What are the potential costs to the business if we were to make these mistakes in practice?\n",
    "Reduces operational inefficiency, as only genuinely positive cases are processed.\n"
   ]
  },
  {
   "cell_type": "markdown",
   "id": "f3344f0f-26a4-478c-8706-b0b20d418997",
   "metadata": {},
   "source": [
    "# How many False Negatives? \n",
    "0 False Negatives.\n",
    "\n",
    "# What do these numbers represent? \n",
    "It implies that there are no cases where a true positive was missed. This ensures that all relevant cases are identified and handled correctly, preventing missed opportunities.\n",
    "\n",
    "# What are the potential costs to the business if we were to make these mistakes in practice?\n",
    "It ensures that no opportunities are missed, maintaining high reliability."
   ]
  },
  {
   "cell_type": "markdown",
   "id": "d27ac03c-fb46-49cf-9d28-7c413483167a",
   "metadata": {},
   "source": [
    "# Which prediction mistakes do you consider to be more costly?\n",
    "False Positives: Lead to wasted resources and potentially unnecessary actions.\n",
    "False Negatives: Represent missed opportunities, potentially leading to lost revenue, lower efficiency, or other missed critical tasks.\n",
    "From the above info we can conclude that false negatives may be more costly if the missed cases are critical to business success, such as failing to complete necessary tasks or losing important opportunities."
   ]
  },
  {
   "cell_type": "markdown",
   "id": "d0befbf6-3fab-4847-8c4f-7812ed197395",
   "metadata": {},
   "source": [
    "#  Evaluation at two Other Probability Thresholds\n",
    "# At threshold 0.1\n",
    "\n",
    "# How many False Positives? \n",
    "2 false positives\n",
    "\n",
    "# What do these numbers represent?  \n",
    "There are two instances of misclassified positives \n",
    "\n",
    "# What are the potential costs to the business if we were to make these mistakes in practice?\n",
    "The Two instances of misclassified positives could lead to minor wasted resources or attention directed at non-relevant cases.\n",
    "\r",
    "# \n",
    "How many False Negatives? \n",
    "0 false negatives.\n",
    "\n",
    "#  What do these numbers represent?\n",
    "there are No missed opportunities.\n",
    "\n",
    "#  What are the potential costs to the business if we were to make these mistakes in practice\n",
    "It ensures that all relevant tasks are identified. but it could potentially lead to lost revenue, lower efficiency, or other missed critical tasks.\n",
    "\n",
    "# At threshold 0.4\n",
    "\n",
    "# How many False Positives? \n",
    "0 false positives\n",
    "\n",
    "# What do these numbers represent?  \n",
    "There are no instances of misclassified positives \n",
    "\n",
    "# What are the potential costs to the business if we were to make these mistakes in practice?\n",
    "It is maintaining efficiency but if present it could lead to minor wasted resources or attention directed at non-relevant cases.\n",
    "\n",
    "# How many False Negatives?  \n",
    "1 false negatives.\n",
    "\n",
    "# What do these numbers represent? \n",
    "there is one missed opportunity.\n",
    "\n",
    "# What are the potential costs to the business if we were to make these mistakes in practice?\n",
    "it could potentially leading to a lost opportunity. it is potentially leading to lost revenue, lower efficiency, or other missed critical tasks.?"
   ]
  },
  {
   "cell_type": "markdown",
   "id": "029c24dc-5a1e-4641-bbc2-35ad1839e1dd",
   "metadata": {},
   "source": [
    "# Based on your careful consideration of probability threshold options and the corresponding speculated risks/costs - which probability threshold do you recommend going forward with?\n",
    "Based on the evaluation, Threshold = 0.3 for Logistic Regression is recommended.\n",
    "Because it achieves perfect performance (no false positives or negatives), ensuring maximum efficiency and accuracy for the business context without missed opportunities or wasted resources."
   ]
  },
  {
   "cell_type": "code",
   "execution_count": null,
   "id": "bed09337-e74f-4e67-9442-494c177f4476",
   "metadata": {},
   "outputs": [],
   "source": []
  }
 ],
 "metadata": {
  "kernelspec": {
   "display_name": "Python 3 (ipykernel)",
   "language": "python",
   "name": "python3"
  },
  "language_info": {
   "codemirror_mode": {
    "name": "ipython",
    "version": 3
   },
   "file_extension": ".py",
   "mimetype": "text/x-python",
   "name": "python",
   "nbconvert_exporter": "python",
   "pygments_lexer": "ipython3",
   "version": "3.12.4"
  }
 },
 "nbformat": 4,
 "nbformat_minor": 5
}
